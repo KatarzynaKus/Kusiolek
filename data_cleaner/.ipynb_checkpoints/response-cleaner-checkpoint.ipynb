{
 "cells": [
  {
   "cell_type": "code",
   "execution_count": 1,
   "metadata": {
    "collapsed": true
   },
   "outputs": [],
   "source": [
    "import pandas as pd\n",
    "from numpy import nan\n",
    "from pandas import Series\n",
    "from limesurvey_helper import LimeSurveyRPC"
   ]
  },
  {
   "cell_type": "code",
   "execution_count": 2,
   "metadata": {
    "collapsed": true
   },
   "outputs": [],
   "source": [
    "data = pd.read_csv('data_sdaps.csv')"
   ]
  },
  {
   "cell_type": "code",
   "execution_count": 3,
   "metadata": {
    "collapsed": true,
    "scrolled": true
   },
   "outputs": [],
   "source": [
    "column_map = {\n",
    "    'questionnaire_id' :'ID kwestionariusza',\n",
    "    'global_id': 'ID badanego',\n",
    "    'verified' : 'Zweryfikowany',\n",
    "    '1_1_0':'Naklejka',\n",
    "    '1_2_0':'Podstawowy kierunek',\n",
    "    '1_3_0':'Rok urodzenia',\n",
    "    '1_4_0': 'Płeć - kobieta',\n",
    "    '1_4_1': 'Płeć - mężczyzna',\n",
    "    '1_4_2': 'Płeć - inna',\n",
    "    '1_4_3': 'Płeć - odmowa odpowiedzi',\n",
    "    '1_5_0':'Filozofia lub etyka w szkole średniej - tak',\n",
    "    '1_5_1':'Filozofia lub etyka w szkole średniej - nie',\n",
    "    '1_6_0':'Olimpiada lub Konkurs Filozoficzny - tak',\n",
    "    '1_6_1':'Olimpiada lub Konkurs Filozoficzny - nie',\n",
    "    '1_7_0':'Rok rozpoczęcia studiów filozoficznych',\n",
    "    '1_8_0':'Inne studia - tak',\n",
    "    '1_8_1':'Inne studia - nie',\n",
    "    '1_8_2':'Inne studia - a',\n",
    "    '1_8_3':'Inne studia - b',\n",
    "    '1_8_4':'Inne studia - c',\n",
    "    '1_9_0':'Dziedziny filozofii - epistemologia',\n",
    "    '1_9_1':'Dziedziny filozofii - logika',\n",
    "    '1_9_2':'Dziedziny filozofii - etyka',\n",
    "    '1_9_3':'Dziedziny filozofii - filozofia polityki',\n",
    "    '1_9_4':'Dziedziny filozofii - filozofia społeczna',\n",
    "    '1_9_5':'Dziedziny filozofii - historia filozofii',\n",
    "    '1_9_6':'Dziedziny filozofii - filozofia kultury',\n",
    "    '1_9_7':'Dziedziny filozofii - estetyka',\n",
    "    '1_9_8':'Dziedziny filozofii - filozofia religii',\n",
    "    '1_9_9':'Dziedziny filozofii - filozofia nauki',\n",
    "    '1_9_10':'Dziedziny filozofii - filozofia analityczna',\n",
    "    '1_9_11':'Dziedziny filozofii - ontologia',\n",
    "    '1_9_12':'Dziedziny filozofii - filozofia nieanalityczna',\n",
    "    '1_9_13':'Dziedziny filozofii - inne',\n",
    "    '2_1_0':'Gettier - tak',\n",
    "    '2_1_1':'Gettier - nie',\n",
    "    '2_2':'Gettier - poziom',\n",
    "    '3_1_0':'Stodoły - tak',\n",
    "    '3_1_1':'Stodoły - nie',\n",
    "    '3_2':'Stodoły - poziom',\n",
    "    '4_1_0':'Truetemp - tak',\n",
    "    '4_1_1':'Truetemp - nie',\n",
    "    '4_2':'Truetemp - poziom',\n",
    "    '5_1_0':'Parfit - żona',\n",
    "    '5_1_1':'Parfit - matka',\n",
    "    '5_1_2':'Parfit - żadna',\n",
    "    '5_1_3':'Parfit - obie',\n",
    "    '5_2':'Parfit - poziom',\n",
    "    '6_1_0':'Knobe - tak',\n",
    "    '6_1_1':'Knobe - nie',\n",
    "    '6_2':'Knobe - poziom',\n",
    "    '7_1_0':'Putnam - tak',\n",
    "    '7_1_1':'Putnam - nie',\n",
    "    '7_2_0':'Putnam - poziom',\n",
    "    '8_1_0':'Kripke - autor',\n",
    "    '8_1_1':'Kripke - oszust',\n",
    "    '8_2':'Kripke - poziom',\n",
    "    '9_1_0':'Frankfurt1 - tak',\n",
    "    '9_1_1':'Frankfurt1 - nie',\n",
    "    '9_2_0':'Frankfurt2 - tak',\n",
    "    '9_2_1':'Frankfurt2 - nie',\n",
    "    '9_3_0':'Frankfurt3 - tak',\n",
    "    '9_3_1':'Frankfurt3 - nie',\n",
    "    '9_4':'Frankfurt - poziom',\n",
    "    '10_1_0':'Skrzypek - tak',\n",
    "    '10_1_1':'Skrzypek - nie',\n",
    "    '10_2':'Skrzypek - poziom',\n",
    "    '11_1_0':'Maszyna przyjemności - podłączyć',\n",
    "    '11_1_1':'Maszyna przyjemności - pozostać',\n",
    "    '11_2':'Maszyna przyjemności - poziom',\n",
    "}"
   ]
  },
  {
   "cell_type": "code",
   "execution_count": 4,
   "metadata": {
    "collapsed": true
   },
   "outputs": [],
   "source": [
    "data.rename(columns=column_map, inplace=True)"
   ]
  },
  {
   "cell_type": "code",
   "execution_count": 5,
   "metadata": {
    "collapsed": false
   },
   "outputs": [],
   "source": [
    "response = Series()\n",
    "\n",
    "response = response.append ([\n",
    "data['Płeć - kobieta'].map({1:'Kobieta', 0:nan}).dropna(),\n",
    "data['Płeć - mężczyzna'].map({1:'Mężczyzna', 0:nan}).dropna(),\n",
    "data['Płeć - inna'].map({1:'Inna', 0:nan}).dropna(),\n",
    "data['Płeć - odmowa odpowiedzi'].map({1:'Odmowa odpowiedzi', 0:nan}).dropna()\n",
    "])\n",
    "\n",
    "data['Płeć'] = response"
   ]
  },
  {
   "cell_type": "code",
   "execution_count": 6,
   "metadata": {
    "collapsed": true
   },
   "outputs": [],
   "source": [
    "response = Series()\n",
    "\n",
    "response = response.append ([\n",
    "data['Filozofia lub etyka w szkole średniej - tak'].map({1:'Tak', 0:nan}).dropna(),\n",
    "data['Filozofia lub etyka w szkole średniej - nie'].map({1:'Nie', 0:nan}).dropna()\n",
    "])\n",
    "\n",
    "data['Filozofia lub etyka w szkole średniej'] = response"
   ]
  },
  {
   "cell_type": "code",
   "execution_count": 7,
   "metadata": {
    "collapsed": true
   },
   "outputs": [],
   "source": [
    "response = Series()\n",
    "\n",
    "response = response.append ([\n",
    "data['Olimpiada lub Konkurs Filozoficzny - tak'].map({1:'Tak', 0:nan}).dropna(),\n",
    "data['Olimpiada lub Konkurs Filozoficzny - nie'].map({1:'Nie', 0:nan}).dropna()\n",
    "])\n",
    "\n",
    "data['Olimpiada lub Konkurs Filozoficzny'] = response"
   ]
  },
  {
   "cell_type": "code",
   "execution_count": 8,
   "metadata": {
    "collapsed": true
   },
   "outputs": [],
   "source": [
    "response = Series()\n",
    "\n",
    "response = response.append ([\n",
    "data['Inne studia - tak'].map({1:'Tak', 0:nan}).dropna(),\n",
    "data['Inne studia - nie'].map({1:'Nie', 0:nan}).dropna()\n",
    "])\n",
    "\n",
    "data['Inne studia'] = response"
   ]
  },
  {
   "cell_type": "code",
   "execution_count": 9,
   "metadata": {
    "collapsed": false
   },
   "outputs": [],
   "source": [
    "dziedziny = ['Dziedziny filozofii - epistemologia',\n",
    "    'Dziedziny filozofii - logika',\n",
    "    'Dziedziny filozofii - etyka',\n",
    "    'Dziedziny filozofii - filozofia polityki',\n",
    "    'Dziedziny filozofii - filozofia społeczna',\n",
    "    'Dziedziny filozofii - historia filozofii',\n",
    "    'Dziedziny filozofii - filozofia kultury',\n",
    "    'Dziedziny filozofii - estetyka',\n",
    "    'Dziedziny filozofii - filozofia religii',\n",
    "    'Dziedziny filozofii - filozofia nauki',\n",
    "    'Dziedziny filozofii - filozofia analityczna',\n",
    "    'Dziedziny filozofii - ontologia',\n",
    "    'Dziedziny filozofii - filozofia nieanalityczna']\n",
    "for d in dziedziny:\n",
    "    data[d] = data[d].map({1:'Tak', 0:'Nie'})"
   ]
  },
  {
   "cell_type": "code",
   "execution_count": 10,
   "metadata": {
    "collapsed": true
   },
   "outputs": [],
   "source": [
    "response = Series()\n",
    "\n",
    "response = response.append ([\n",
    "data['Gettier - tak'].map({1:'Tak', 0:nan}).dropna(),\n",
    "data['Gettier - nie'].map({1:'Nie', 0:nan}).dropna()\n",
    "])\n",
    "\n",
    "data['Gettier'] = response"
   ]
  },
  {
   "cell_type": "code",
   "execution_count": 11,
   "metadata": {
    "collapsed": true
   },
   "outputs": [],
   "source": [
    "response = Series()\n",
    "\n",
    "response = response.append ([\n",
    "data['Stodoły - tak'].map({1:'Tak', 0:nan}).dropna(),\n",
    "data['Stodoły - nie'].map({1:'Nie', 0:nan}).dropna()\n",
    "])\n",
    "\n",
    "data['Stodoły'] = response"
   ]
  },
  {
   "cell_type": "code",
   "execution_count": 12,
   "metadata": {
    "collapsed": true
   },
   "outputs": [],
   "source": [
    "response = Series()\n",
    "\n",
    "response = response.append ([\n",
    "data['Truetemp - tak'].map({1:'Tak', 0:nan}).dropna(),\n",
    "data['Truetemp - nie'].map({1:'Nie', 0:nan}).dropna()\n",
    "])\n",
    "\n",
    "data['Truetemp'] = response"
   ]
  },
  {
   "cell_type": "code",
   "execution_count": 13,
   "metadata": {
    "collapsed": true
   },
   "outputs": [],
   "source": [
    "response = Series()\n",
    "\n",
    "response = response.append ([\n",
    "data['Truetemp - tak'].map({1:'Tak', 0:nan}).dropna(),\n",
    "data['Truetemp - nie'].map({1:'Nie', 0:nan}).dropna()\n",
    "])\n",
    "\n",
    "data['Truetemp'] = response"
   ]
  },
  {
   "cell_type": "code",
   "execution_count": 14,
   "metadata": {
    "collapsed": true
   },
   "outputs": [],
   "source": [
    "response = Series()\n",
    "\n",
    "response = response.append ([\n",
    "data['Parfit - żona'].map({1:'Żona', 0:nan}).dropna(),\n",
    "data['Parfit - matka'].map({1:'Matka', 0:nan}).dropna(),\n",
    "data['Parfit - żadna'].map({1:'Żadna', 0:nan}).dropna(),\n",
    "data['Parfit - obie'].map({1:'Obie', 0:nan}).dropna()\n",
    "])\n",
    "\n",
    "data['Parfit'] = response"
   ]
  },
  {
   "cell_type": "code",
   "execution_count": 15,
   "metadata": {
    "collapsed": true
   },
   "outputs": [],
   "source": [
    "response = Series()\n",
    "\n",
    "response = response.append ([\n",
    "data['Knobe - tak'].map({1:'Tak', 0:nan}).dropna(),\n",
    "data['Knobe - nie'].map({1:'Nie', 0:nan}).dropna()\n",
    "])\n",
    "\n",
    "data['Knobe'] = response"
   ]
  },
  {
   "cell_type": "code",
   "execution_count": 16,
   "metadata": {
    "collapsed": true
   },
   "outputs": [],
   "source": [
    "response = Series()\n",
    "\n",
    "response = response.append ([\n",
    "data['Putnam - tak'].map({1:'Tak', 0:nan}).dropna(),\n",
    "data['Putnam - nie'].map({1:'Nie', 0:nan}).dropna()\n",
    "])\n",
    "\n",
    "data['Putnam'] = response"
   ]
  },
  {
   "cell_type": "code",
   "execution_count": 17,
   "metadata": {
    "collapsed": true
   },
   "outputs": [],
   "source": [
    "response = Series()\n",
    "\n",
    "response = response.append ([\n",
    "data['Kripke - autor'].map({1:'Autor', 0:nan}).dropna(),\n",
    "data['Kripke - oszust'].map({1:'Oszust', 0:nan}).dropna()\n",
    "])\n",
    "\n",
    "data['Kripke'] = response"
   ]
  },
  {
   "cell_type": "code",
   "execution_count": 18,
   "metadata": {
    "collapsed": true
   },
   "outputs": [],
   "source": [
    "response = Series()\n",
    "\n",
    "response = response.append ([\n",
    "data['Frankfurt1 - tak'].map({1:'Tak', 0:nan}).dropna(),\n",
    "data['Frankfurt1 - nie'].map({1:'Nie', 0:nan}).dropna()\n",
    "])\n",
    "\n",
    "data['Frankfurt1'] = response"
   ]
  },
  {
   "cell_type": "code",
   "execution_count": 19,
   "metadata": {
    "collapsed": true
   },
   "outputs": [],
   "source": [
    "response = Series()\n",
    "\n",
    "response = response.append ([\n",
    "data['Frankfurt2 - tak'].map({1:'Tak', 0:nan}).dropna(),\n",
    "data['Frankfurt2 - nie'].map({1:'Nie', 0:nan}).dropna()\n",
    "])\n",
    "\n",
    "data['Frankfurt2'] = response"
   ]
  },
  {
   "cell_type": "code",
   "execution_count": 20,
   "metadata": {
    "collapsed": false
   },
   "outputs": [],
   "source": [
    "response = Series()\n",
    "\n",
    "response = response.append ([\n",
    "data['Frankfurt3 - tak'].map({1:'Tak', 0:nan}).dropna(),\n",
    "data['Frankfurt3 - nie'].map({1:'Nie', 0:nan}).dropna()\n",
    "])\n",
    "\n",
    "data['Frankfurt3'] = response"
   ]
  },
  {
   "cell_type": "code",
   "execution_count": 21,
   "metadata": {
    "collapsed": false
   },
   "outputs": [],
   "source": [
    "response = Series()\n",
    "\n",
    "response = response.append ([\n",
    "data['Skrzypek - tak'].map({1:'Tak', 0:nan}).dropna(),\n",
    "data['Skrzypek - nie'].map({1:'Nie', 0:nan}).dropna()\n",
    "])\n",
    "\n",
    "data['Skrzypek'] = response"
   ]
  },
  {
   "cell_type": "code",
   "execution_count": 22,
   "metadata": {
    "collapsed": true
   },
   "outputs": [],
   "source": [
    "response = Series()\n",
    "\n",
    "response = response.append ([\n",
    "data['Maszyna przyjemności - podłączyć'].map({1:'Podłączyć', 0:nan}).dropna(),\n",
    "data['Maszyna przyjemności - pozostać'].map({1:'Pozostać', 0:nan}).dropna()\n",
    "])\n",
    "\n",
    "data['Maszyna przyjemności'] = response"
   ]
  },
  {
   "cell_type": "code",
   "execution_count": 23,
   "metadata": {
    "collapsed": true
   },
   "outputs": [],
   "source": [
    "columns = [\n",
    "    'ID kwestionariusza',\n",
    "    'ID badanego',\n",
    "    'Zweryfikowany',\n",
    "    'Naklejka',\n",
    "    'Podstawowy kierunek',\n",
    "    'Rok urodzenia',\n",
    "    'Płeć', \n",
    "    'Filozofia lub etyka w szkole średniej',\n",
    "    'Olimpiada lub Konkurs Filozoficzny',\n",
    "    'Dziedziny filozofii - inne',\n",
    "    'Inne studia', \n",
    "    'Gettier',\n",
    "    'Stodoły', \n",
    "    'Truetemp', \n",
    "    'Parfit', \n",
    "    'Knobe', \n",
    "    'Putnam', \n",
    "    'Kripke',\n",
    "    'Frankfurt1', \n",
    "    'Frankfurt2', \n",
    "    'Frankfurt3', \n",
    "    'Skrzypek',\n",
    "    'Maszyna przyjemności'\n",
    "]\n",
    "columns = columns + dziedziny"
   ]
  },
  {
   "cell_type": "code",
   "execution_count": 24,
   "metadata": {
    "collapsed": false
   },
   "outputs": [],
   "source": [
    "data = data[columns]\n",
    "data['Kanał'] = 'Papier'\n",
    "data.to_csv('papier-clean.csv')"
   ]
  },
  {
   "cell_type": "code",
   "execution_count": null,
   "metadata": {
    "collapsed": false
   },
   "outputs": [],
   "source": [
    "kognilab = LimeSurveyRPC(login='admin', password=input(), \n",
    "                         url='http://kognilab.pl/limesurvey/index.php/admin/remotecontrol')"
   ]
  },
  {
   "cell_type": "code",
   "execution_count": 28,
   "metadata": {
    "collapsed": false
   },
   "outputs": [
    {
     "name": "stdout",
     "output_type": "stream",
     "text": [
      "Ankieta pobrana pomyślnie!\n"
     ]
    }
   ],
   "source": [
    "kognilab.get_survey(dest='.', lang='pl', sid=718291)"
   ]
  },
  {
   "cell_type": "code",
   "execution_count": 144,
   "metadata": {
    "collapsed": true
   },
   "outputs": [],
   "source": [
    "data = pd.read_csv('718291.csv')"
   ]
  },
  {
   "cell_type": "code",
   "execution_count": 145,
   "metadata": {
    "collapsed": true
   },
   "outputs": [],
   "source": [
    "column_map = {\n",
    "    'demographics1' : 'Podstawowy kierunek',\n",
    "    'demographics2' : 'Rok urodzenia',\n",
    "    'demographics3' : 'Płeć',\n",
    "    'demographics4' : 'Filozofia lub etyka w szkole średniej',\n",
    "    'demographics5' : 'Olimpiada lub Konkurs Filozoficzny',\n",
    "    'demographics6' : 'Rok rozpoczęcia studiów filozoficznych',\n",
    "    'demographics7[SQ001]' : 'Inne studia - a',\n",
    "    'demographics7[SQ001]' : 'Inne studia - b',\n",
    "    'demographics7[SQ001]' : 'Inne studia - c',\n",
    "    'demographics8[SQ001]' : 'Dziedziny filozofii - epistemologia',\n",
    "    'demographics8[SQ002]' : 'Dziedziny filozofii - etyka',\n",
    "    'demographics8[SQ003]' : 'Dziedziny filozofii - filozofia społeczna',\n",
    "    'demographics8[SQ004]' : 'Dziedziny filozofii - filozofia kultury',\n",
    "    'demographics8[SQ005]' : 'Dziedziny filozofii - filozofia religii',\n",
    "    'demographics8[SQ006]' : 'Dziedziny filozofii - filozofia analityczna',\n",
    "    'demographics8[SQ007]' : 'Dziedziny filozofii - filozofia nieanalityczna',\n",
    "    'demographics8[SQ008]' : 'Dziedziny filozofii - logika',\n",
    "    'demographics8[SQ009]' : 'Dziedziny filozofii - filozofia polityki',\n",
    "    'demographics8[SQ010]' : 'Dziedziny filozofii - historia filozofii',\n",
    "    'demographics8[SQ011]' : 'Dziedziny filozofii - estetyka',\n",
    "    'demographics8[SQ012]' : 'Dziedziny filozofii - filozofia nauki',\n",
    "    'demographics8[SQ013]' : 'Dziedziny filozofii - ontologia',\n",
    "    'demographics8[other]' : 'Dziedziny filozofii - inne',\n",
    "    'survey1' : 'Gettier', \n",
    "    'survey1Certainty[SQ001]' : 'Gettier - poziom',\n",
    "    'survey2' : 'Stodoły', \n",
    "    'survey2Certainty[SQ001]' : 'Stodoły - poziom',\n",
    "    'survey3' : 'Truetemp', \n",
    "    'survey3Certainty[SQ001]' : 'Truetemp - poziom',\n",
    "    'survey4' : 'Parfit', \n",
    "    'survey4Certainty[SQ001]' : 'Parfit - poziom',\n",
    "    'survey5' : 'Knobe', \n",
    "    'survey5Certainty[SQ001]' : 'Knobe - poziom',\n",
    "    'survey6' : 'Putnam', \n",
    "    'survey6Certainty[SQ001]' : 'Putnam - poziom',\n",
    "    'survey7' : 'Kripke', \n",
    "    'survey7Certainty[SQ001]' : 'Kripke - poziom',\n",
    "    'survey8' : 'Frankfurt1', \n",
    "    'survey8Question2' : 'Frankfurt2',\n",
    "    'survey8Question3' : 'Frankfurt3',\n",
    "    'survey8Certainty[SQ001]' : 'Frankfurt - poziom',\n",
    "    'survey9' : 'Skrzypek', \n",
    "    'survey9Certainty[SQ001]' : 'Skrzypek - poziom',\n",
    "    'survey10' : 'Maszyna przyjemności', \n",
    "    'survey10Certainty[SQ001]' : 'Maszyna przyjemności - poziom',\n",
    "}"
   ]
  },
  {
   "cell_type": "code",
   "execution_count": 146,
   "metadata": {
    "collapsed": false
   },
   "outputs": [],
   "source": [
    "data.rename(columns=column_map, inplace=True)"
   ]
  },
  {
   "cell_type": "code",
   "execution_count": 147,
   "metadata": {
    "collapsed": false
   },
   "outputs": [],
   "source": [
    "data['Płeć'] = data['Płeć'].map({'A1':'Kobieta', 'A2':'Mężczyzna', 'A3':'Odmowa odpowiedzi'})"
   ]
  },
  {
   "cell_type": "code",
   "execution_count": 148,
   "metadata": {
    "collapsed": false
   },
   "outputs": [],
   "source": [
    "data['Filozofia lub etyka w szkole średniej'] = data['Filozofia lub etyka w szkole średniej'].map({'Y':'Tak', 'N':'Nie'})"
   ]
  },
  {
   "cell_type": "code",
   "execution_count": 149,
   "metadata": {
    "collapsed": true
   },
   "outputs": [],
   "source": [
    "data['Olimpiada lub Konkurs Filozoficzny'] = data['Olimpiada lub Konkurs Filozoficzny'].map({'Y':'Tak', 'N':'Nie'})"
   ]
  },
  {
   "cell_type": "code",
   "execution_count": 150,
   "metadata": {
    "collapsed": false
   },
   "outputs": [],
   "source": [
    "for d in dziedziny:\n",
    "    data[d] = data[d].map({'Y':'Tak', nan:'Nie'})"
   ]
  },
  {
   "cell_type": "code",
   "execution_count": 151,
   "metadata": {
    "collapsed": false
   },
   "outputs": [],
   "source": [
    "data['Gettier'] = data['Gettier'].map({'Y':'Tak', 'N':'Nie'})"
   ]
  },
  {
   "cell_type": "code",
   "execution_count": 152,
   "metadata": {
    "collapsed": true
   },
   "outputs": [],
   "source": [
    "data['Stodoły'] = data['Stodoły'].map({'Y':'Tak', 'N':'Nie'})"
   ]
  },
  {
   "cell_type": "code",
   "execution_count": 153,
   "metadata": {
    "collapsed": true
   },
   "outputs": [],
   "source": [
    "data['Truetemp'] = data['Truetemp'].map({'Y':'Tak', 'N':'Nie'})"
   ]
  },
  {
   "cell_type": "code",
   "execution_count": 154,
   "metadata": {
    "collapsed": true
   },
   "outputs": [],
   "source": [
    "data['Putnam'] = data['Putnam'].map({'Y':'Tak', 'N':'Nie'})"
   ]
  },
  {
   "cell_type": "code",
   "execution_count": 155,
   "metadata": {
    "collapsed": true
   },
   "outputs": [],
   "source": [
    "data['Parfit'] = data['Parfit'].map({'A1':'Żona', 'A2':'Matka', 'A3':'Żadna', 'A4':'Obie'})"
   ]
  },
  {
   "cell_type": "code",
   "execution_count": 156,
   "metadata": {
    "collapsed": true
   },
   "outputs": [],
   "source": [
    "data['Knobe'] = data['Knobe'].map({'Y':'Tak', 'N':'Nie'})"
   ]
  },
  {
   "cell_type": "code",
   "execution_count": 157,
   "metadata": {
    "collapsed": true
   },
   "outputs": [],
   "source": [
    "data['Kripke'] = data['Kripke'].map({'A1':'Autor', 'A2':'Oszust'})"
   ]
  },
  {
   "cell_type": "code",
   "execution_count": 158,
   "metadata": {
    "collapsed": true
   },
   "outputs": [],
   "source": [
    "data['Frankfurt1'] = data['Frankfurt1'].map({'Y':'Tak', 'N':'Nie'})\n",
    "data['Frankfurt2'] = data['Frankfurt2'].map({'Y':'Tak', 'N':'Nie'})\n",
    "data['Frankfurt3'] = data['Frankfurt3'].map({'Y':'Tak', 'N':'Nie'})"
   ]
  },
  {
   "cell_type": "code",
   "execution_count": 159,
   "metadata": {
    "collapsed": true
   },
   "outputs": [],
   "source": [
    "data['Skrzypek'] = data['Skrzypek'].map({'Y':'Tak', 'N':'Nie'})"
   ]
  },
  {
   "cell_type": "code",
   "execution_count": 160,
   "metadata": {
    "collapsed": true
   },
   "outputs": [],
   "source": [
    "data['Maszyna przyjemności'] = data['Maszyna przyjemności'].map({'A1':'Podłączyć', 'A2':'Pozostać'})"
   ]
  },
  {
   "cell_type": "code",
   "execution_count": 161,
   "metadata": {
    "collapsed": false
   },
   "outputs": [],
   "source": [
    "data = data[list(set(columns).intersection(data.columns))]"
   ]
  },
  {
   "cell_type": "code",
   "execution_count": 166,
   "metadata": {
    "collapsed": true
   },
   "outputs": [],
   "source": [
    "data.to_csv('limesurvey-clean.csv')"
   ]
  },
  {
   "cell_type": "code",
   "execution_count": null,
   "metadata": {
    "collapsed": true
   },
   "outputs": [],
   "source": []
  },
  {
   "cell_type": "code",
   "execution_count": 168,
   "metadata": {
    "collapsed": false
   },
   "outputs": [],
   "source": [
    "data_sdaps = pd.read_csv('papier-clean.csv')\n",
    "data_limesurvey = pd.read_csv('limesurvey-clean.csv')"
   ]
  },
  {
   "cell_type": "code",
   "execution_count": 169,
   "metadata": {
    "collapsed": true
   },
   "outputs": [],
   "source": [
    "data = pd.concat([data_sdaps, data_limesurvey])"
   ]
  },
  {
   "cell_type": "code",
   "execution_count": 170,
   "metadata": {
    "collapsed": false
   },
   "outputs": [
    {
     "data": {
      "text/html": [
       "<div>\n",
       "<table border=\"1\" class=\"dataframe\">\n",
       "  <thead>\n",
       "    <tr style=\"text-align: right;\">\n",
       "      <th></th>\n",
       "      <th>Dziedziny filozofii - epistemologia</th>\n",
       "      <th>Dziedziny filozofii - estetyka</th>\n",
       "      <th>Dziedziny filozofii - etyka</th>\n",
       "      <th>Dziedziny filozofii - filozofia analityczna</th>\n",
       "      <th>Dziedziny filozofii - filozofia kultury</th>\n",
       "      <th>Dziedziny filozofii - filozofia nauki</th>\n",
       "      <th>Dziedziny filozofii - filozofia nieanalityczna</th>\n",
       "      <th>Dziedziny filozofii - filozofia polityki</th>\n",
       "      <th>Dziedziny filozofii - filozofia religii</th>\n",
       "      <th>Dziedziny filozofii - filozofia społeczna</th>\n",
       "      <th>...</th>\n",
       "      <th>Parfit</th>\n",
       "      <th>Podstawowy kierunek</th>\n",
       "      <th>Putnam</th>\n",
       "      <th>Płeć</th>\n",
       "      <th>Rok urodzenia</th>\n",
       "      <th>Skrzypek</th>\n",
       "      <th>Stodoły</th>\n",
       "      <th>Truetemp</th>\n",
       "      <th>Unnamed: 0</th>\n",
       "      <th>Zweryfikowany</th>\n",
       "    </tr>\n",
       "  </thead>\n",
       "  <tbody>\n",
       "    <tr>\n",
       "      <th>0</th>\n",
       "      <td>Nie</td>\n",
       "      <td>Nie</td>\n",
       "      <td>Nie</td>\n",
       "      <td>Nie</td>\n",
       "      <td>Tak</td>\n",
       "      <td>Tak</td>\n",
       "      <td>Nie</td>\n",
       "      <td>Nie</td>\n",
       "      <td>Nie</td>\n",
       "      <td>Nie</td>\n",
       "      <td>...</td>\n",
       "      <td>Obie</td>\n",
       "      <td>kognitywistyka</td>\n",
       "      <td>Nie</td>\n",
       "      <td>Inna</td>\n",
       "      <td>1983</td>\n",
       "      <td>Nie</td>\n",
       "      <td>Tak</td>\n",
       "      <td>Nie</td>\n",
       "      <td>0</td>\n",
       "      <td>1.0</td>\n",
       "    </tr>\n",
       "    <tr>\n",
       "      <th>1</th>\n",
       "      <td>Tak</td>\n",
       "      <td>Nie</td>\n",
       "      <td>Tak</td>\n",
       "      <td>Nie</td>\n",
       "      <td>Nie</td>\n",
       "      <td>Nie</td>\n",
       "      <td>Nie</td>\n",
       "      <td>Nie</td>\n",
       "      <td>Nie</td>\n",
       "      <td>Nie</td>\n",
       "      <td>...</td>\n",
       "      <td>Żona</td>\n",
       "      <td>psychologia</td>\n",
       "      <td>Nie</td>\n",
       "      <td>Odmowa odpowiedzi</td>\n",
       "      <td>1990</td>\n",
       "      <td>Tak</td>\n",
       "      <td>Tak</td>\n",
       "      <td>Tak</td>\n",
       "      <td>1</td>\n",
       "      <td>1.0</td>\n",
       "    </tr>\n",
       "    <tr>\n",
       "      <th>2</th>\n",
       "      <td>Nie</td>\n",
       "      <td>Nie</td>\n",
       "      <td>Tak</td>\n",
       "      <td>Nie</td>\n",
       "      <td>Nie</td>\n",
       "      <td>Nie</td>\n",
       "      <td>Nie</td>\n",
       "      <td>Nie</td>\n",
       "      <td>Tak</td>\n",
       "      <td>Nie</td>\n",
       "      <td>...</td>\n",
       "      <td>Matka</td>\n",
       "      <td>filozofia</td>\n",
       "      <td>Tak</td>\n",
       "      <td>Inna</td>\n",
       "      <td>1998</td>\n",
       "      <td>Tak</td>\n",
       "      <td>Nie</td>\n",
       "      <td>Tak</td>\n",
       "      <td>2</td>\n",
       "      <td>1.0</td>\n",
       "    </tr>\n",
       "    <tr>\n",
       "      <th>0</th>\n",
       "      <td>Nie</td>\n",
       "      <td>Nie</td>\n",
       "      <td>Nie</td>\n",
       "      <td>Nie</td>\n",
       "      <td>Tak</td>\n",
       "      <td>Nie</td>\n",
       "      <td>Tak</td>\n",
       "      <td>Nie</td>\n",
       "      <td>Tak</td>\n",
       "      <td>Nie</td>\n",
       "      <td>...</td>\n",
       "      <td>Obie</td>\n",
       "      <td>architektura</td>\n",
       "      <td>Nie</td>\n",
       "      <td>Mężczyzna</td>\n",
       "      <td>1993</td>\n",
       "      <td>Nie</td>\n",
       "      <td>Tak</td>\n",
       "      <td>Nie</td>\n",
       "      <td>0</td>\n",
       "      <td>NaN</td>\n",
       "    </tr>\n",
       "    <tr>\n",
       "      <th>1</th>\n",
       "      <td>Tak</td>\n",
       "      <td>Nie</td>\n",
       "      <td>Tak</td>\n",
       "      <td>Nie</td>\n",
       "      <td>Nie</td>\n",
       "      <td>Nie</td>\n",
       "      <td>Nie</td>\n",
       "      <td>Nie</td>\n",
       "      <td>Nie</td>\n",
       "      <td>Nie</td>\n",
       "      <td>...</td>\n",
       "      <td>Obie</td>\n",
       "      <td>filozofia</td>\n",
       "      <td>Nie</td>\n",
       "      <td>Kobieta</td>\n",
       "      <td>1999</td>\n",
       "      <td>Nie</td>\n",
       "      <td>Tak</td>\n",
       "      <td>Nie</td>\n",
       "      <td>1</td>\n",
       "      <td>NaN</td>\n",
       "    </tr>\n",
       "    <tr>\n",
       "      <th>2</th>\n",
       "      <td>Nie</td>\n",
       "      <td>Nie</td>\n",
       "      <td>Nie</td>\n",
       "      <td>Tak</td>\n",
       "      <td>Tak</td>\n",
       "      <td>Nie</td>\n",
       "      <td>Nie</td>\n",
       "      <td>Nie</td>\n",
       "      <td>Tak</td>\n",
       "      <td>Nie</td>\n",
       "      <td>...</td>\n",
       "      <td>Żadna</td>\n",
       "      <td>filologia germańska</td>\n",
       "      <td>Tak</td>\n",
       "      <td>Kobieta</td>\n",
       "      <td>1988</td>\n",
       "      <td>Nie</td>\n",
       "      <td>Nie</td>\n",
       "      <td>Tak</td>\n",
       "      <td>2</td>\n",
       "      <td>NaN</td>\n",
       "    </tr>\n",
       "  </tbody>\n",
       "</table>\n",
       "<p>6 rows × 38 columns</p>\n",
       "</div>"
      ],
      "text/plain": [
       "  Dziedziny filozofii - epistemologia Dziedziny filozofii - estetyka  \\\n",
       "0                                 Nie                            Nie   \n",
       "1                                 Tak                            Nie   \n",
       "2                                 Nie                            Nie   \n",
       "0                                 Nie                            Nie   \n",
       "1                                 Tak                            Nie   \n",
       "2                                 Nie                            Nie   \n",
       "\n",
       "  Dziedziny filozofii - etyka Dziedziny filozofii - filozofia analityczna  \\\n",
       "0                         Nie                                         Nie   \n",
       "1                         Tak                                         Nie   \n",
       "2                         Tak                                         Nie   \n",
       "0                         Nie                                         Nie   \n",
       "1                         Tak                                         Nie   \n",
       "2                         Nie                                         Tak   \n",
       "\n",
       "  Dziedziny filozofii - filozofia kultury  \\\n",
       "0                                     Tak   \n",
       "1                                     Nie   \n",
       "2                                     Nie   \n",
       "0                                     Tak   \n",
       "1                                     Nie   \n",
       "2                                     Tak   \n",
       "\n",
       "  Dziedziny filozofii - filozofia nauki  \\\n",
       "0                                   Tak   \n",
       "1                                   Nie   \n",
       "2                                   Nie   \n",
       "0                                   Nie   \n",
       "1                                   Nie   \n",
       "2                                   Nie   \n",
       "\n",
       "  Dziedziny filozofii - filozofia nieanalityczna  \\\n",
       "0                                            Nie   \n",
       "1                                            Nie   \n",
       "2                                            Nie   \n",
       "0                                            Tak   \n",
       "1                                            Nie   \n",
       "2                                            Nie   \n",
       "\n",
       "  Dziedziny filozofii - filozofia polityki  \\\n",
       "0                                      Nie   \n",
       "1                                      Nie   \n",
       "2                                      Nie   \n",
       "0                                      Nie   \n",
       "1                                      Nie   \n",
       "2                                      Nie   \n",
       "\n",
       "  Dziedziny filozofii - filozofia religii  \\\n",
       "0                                     Nie   \n",
       "1                                     Nie   \n",
       "2                                     Tak   \n",
       "0                                     Tak   \n",
       "1                                     Nie   \n",
       "2                                     Tak   \n",
       "\n",
       "  Dziedziny filozofii - filozofia społeczna      ...      Parfit  \\\n",
       "0                                       Nie      ...        Obie   \n",
       "1                                       Nie      ...        Żona   \n",
       "2                                       Nie      ...       Matka   \n",
       "0                                       Nie      ...        Obie   \n",
       "1                                       Nie      ...        Obie   \n",
       "2                                       Nie      ...       Żadna   \n",
       "\n",
       "   Podstawowy kierunek Putnam               Płeć Rok urodzenia Skrzypek  \\\n",
       "0       kognitywistyka    Nie               Inna          1983      Nie   \n",
       "1          psychologia    Nie  Odmowa odpowiedzi          1990      Tak   \n",
       "2            filozofia    Tak               Inna          1998      Tak   \n",
       "0         architektura    Nie          Mężczyzna          1993      Nie   \n",
       "1            filozofia    Nie            Kobieta          1999      Nie   \n",
       "2  filologia germańska    Tak            Kobieta          1988      Nie   \n",
       "\n",
       "  Stodoły Truetemp Unnamed: 0 Zweryfikowany  \n",
       "0     Tak      Nie          0           1.0  \n",
       "1     Tak      Tak          1           1.0  \n",
       "2     Nie      Tak          2           1.0  \n",
       "0     Tak      Nie          0           NaN  \n",
       "1     Tak      Nie          1           NaN  \n",
       "2     Nie      Tak          2           NaN  \n",
       "\n",
       "[6 rows x 38 columns]"
      ]
     },
     "execution_count": 170,
     "metadata": {},
     "output_type": "execute_result"
    }
   ],
   "source": [
    "data"
   ]
  },
  {
   "cell_type": "code",
   "execution_count": null,
   "metadata": {
    "collapsed": true
   },
   "outputs": [],
   "source": []
  }
 ],
 "metadata": {
  "kernelspec": {
   "display_name": "Python 3",
   "language": "python",
   "name": "python3"
  },
  "language_info": {
   "codemirror_mode": {
    "name": "ipython",
    "version": 3
   },
   "file_extension": ".py",
   "mimetype": "text/x-python",
   "name": "python",
   "nbconvert_exporter": "python",
   "pygments_lexer": "ipython3",
   "version": "3.5.3"
  }
 },
 "nbformat": 4,
 "nbformat_minor": 2
}
